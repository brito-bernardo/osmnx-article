{
 "cells": [
  {
   "cell_type": "code",
   "execution_count": 1,
   "id": "dc6aa781-1d93-4c2e-85c8-78c9da65e40d",
   "metadata": {},
   "outputs": [
    {
     "name": "stdout",
     "output_type": "stream",
     "text": [
      "Requirement already satisfied: osmnx in /Library/Frameworks/Python.framework/Versions/3.11/lib/python3.11/site-packages (1.7.1)\n",
      "Requirement already satisfied: geopandas>=0.12 in /Library/Frameworks/Python.framework/Versions/3.11/lib/python3.11/site-packages (from osmnx) (0.14.1)\n",
      "Requirement already satisfied: networkx>=2.5 in /Library/Frameworks/Python.framework/Versions/3.11/lib/python3.11/site-packages (from osmnx) (3.2.1)\n",
      "Requirement already satisfied: numpy>=1.20 in /Library/Frameworks/Python.framework/Versions/3.11/lib/python3.11/site-packages (from osmnx) (1.26.2)\n",
      "Requirement already satisfied: pandas>=1.1 in /Library/Frameworks/Python.framework/Versions/3.11/lib/python3.11/site-packages (from osmnx) (2.1.3)\n",
      "Requirement already satisfied: requests>=2.27 in /Library/Frameworks/Python.framework/Versions/3.11/lib/python3.11/site-packages (from osmnx) (2.31.0)\n",
      "Requirement already satisfied: shapely>=2.0 in /Library/Frameworks/Python.framework/Versions/3.11/lib/python3.11/site-packages (from osmnx) (2.0.2)\n",
      "Requirement already satisfied: fiona>=1.8.21 in /Library/Frameworks/Python.framework/Versions/3.11/lib/python3.11/site-packages (from geopandas>=0.12->osmnx) (1.9.5)\n",
      "Requirement already satisfied: packaging in /Library/Frameworks/Python.framework/Versions/3.11/lib/python3.11/site-packages (from geopandas>=0.12->osmnx) (23.2)\n",
      "Requirement already satisfied: pyproj>=3.3.0 in /Library/Frameworks/Python.framework/Versions/3.11/lib/python3.11/site-packages (from geopandas>=0.12->osmnx) (3.6.1)\n",
      "Requirement already satisfied: python-dateutil>=2.8.2 in /Library/Frameworks/Python.framework/Versions/3.11/lib/python3.11/site-packages (from pandas>=1.1->osmnx) (2.8.2)\n",
      "Requirement already satisfied: pytz>=2020.1 in /Library/Frameworks/Python.framework/Versions/3.11/lib/python3.11/site-packages (from pandas>=1.1->osmnx) (2023.3.post1)\n",
      "Requirement already satisfied: tzdata>=2022.1 in /Library/Frameworks/Python.framework/Versions/3.11/lib/python3.11/site-packages (from pandas>=1.1->osmnx) (2023.3)\n",
      "Requirement already satisfied: charset-normalizer<4,>=2 in /Library/Frameworks/Python.framework/Versions/3.11/lib/python3.11/site-packages (from requests>=2.27->osmnx) (3.3.2)\n",
      "Requirement already satisfied: idna<4,>=2.5 in /Library/Frameworks/Python.framework/Versions/3.11/lib/python3.11/site-packages (from requests>=2.27->osmnx) (3.4)\n",
      "Requirement already satisfied: urllib3<3,>=1.21.1 in /Library/Frameworks/Python.framework/Versions/3.11/lib/python3.11/site-packages (from requests>=2.27->osmnx) (2.1.0)\n",
      "Requirement already satisfied: certifi>=2017.4.17 in /Library/Frameworks/Python.framework/Versions/3.11/lib/python3.11/site-packages (from requests>=2.27->osmnx) (2023.11.17)\n",
      "Requirement already satisfied: attrs>=19.2.0 in /Library/Frameworks/Python.framework/Versions/3.11/lib/python3.11/site-packages (from fiona>=1.8.21->geopandas>=0.12->osmnx) (23.1.0)\n",
      "Requirement already satisfied: click~=8.0 in /Library/Frameworks/Python.framework/Versions/3.11/lib/python3.11/site-packages (from fiona>=1.8.21->geopandas>=0.12->osmnx) (8.1.7)\n",
      "Requirement already satisfied: click-plugins>=1.0 in /Library/Frameworks/Python.framework/Versions/3.11/lib/python3.11/site-packages (from fiona>=1.8.21->geopandas>=0.12->osmnx) (1.1.1)\n",
      "Requirement already satisfied: cligj>=0.5 in /Library/Frameworks/Python.framework/Versions/3.11/lib/python3.11/site-packages (from fiona>=1.8.21->geopandas>=0.12->osmnx) (0.7.2)\n",
      "Requirement already satisfied: six in /Library/Frameworks/Python.framework/Versions/3.11/lib/python3.11/site-packages (from fiona>=1.8.21->geopandas>=0.12->osmnx) (1.16.0)\n",
      "Requirement already satisfied: setuptools in /Library/Frameworks/Python.framework/Versions/3.11/lib/python3.11/site-packages (from fiona>=1.8.21->geopandas>=0.12->osmnx) (65.5.0)\n",
      "Requirement already satisfied: matplotlib in /Library/Frameworks/Python.framework/Versions/3.11/lib/python3.11/site-packages (3.8.2)\n",
      "Requirement already satisfied: contourpy>=1.0.1 in /Library/Frameworks/Python.framework/Versions/3.11/lib/python3.11/site-packages (from matplotlib) (1.2.0)\n",
      "Requirement already satisfied: cycler>=0.10 in /Library/Frameworks/Python.framework/Versions/3.11/lib/python3.11/site-packages (from matplotlib) (0.12.1)\n",
      "Requirement already satisfied: fonttools>=4.22.0 in /Library/Frameworks/Python.framework/Versions/3.11/lib/python3.11/site-packages (from matplotlib) (4.45.0)\n",
      "Requirement already satisfied: kiwisolver>=1.3.1 in /Library/Frameworks/Python.framework/Versions/3.11/lib/python3.11/site-packages (from matplotlib) (1.4.5)\n",
      "Requirement already satisfied: numpy<2,>=1.21 in /Library/Frameworks/Python.framework/Versions/3.11/lib/python3.11/site-packages (from matplotlib) (1.26.2)\n",
      "Requirement already satisfied: packaging>=20.0 in /Library/Frameworks/Python.framework/Versions/3.11/lib/python3.11/site-packages (from matplotlib) (23.2)\n",
      "Requirement already satisfied: pillow>=8 in /Library/Frameworks/Python.framework/Versions/3.11/lib/python3.11/site-packages (from matplotlib) (10.1.0)\n",
      "Requirement already satisfied: pyparsing>=2.3.1 in /Library/Frameworks/Python.framework/Versions/3.11/lib/python3.11/site-packages (from matplotlib) (3.1.1)\n",
      "Requirement already satisfied: python-dateutil>=2.7 in /Library/Frameworks/Python.framework/Versions/3.11/lib/python3.11/site-packages (from matplotlib) (2.8.2)\n",
      "Requirement already satisfied: six>=1.5 in /Library/Frameworks/Python.framework/Versions/3.11/lib/python3.11/site-packages (from python-dateutil>=2.7->matplotlib) (1.16.0)\n",
      "Requirement already satisfied: geopandas in /Library/Frameworks/Python.framework/Versions/3.11/lib/python3.11/site-packages (0.14.1)\n",
      "Requirement already satisfied: fiona>=1.8.21 in /Library/Frameworks/Python.framework/Versions/3.11/lib/python3.11/site-packages (from geopandas) (1.9.5)\n",
      "Requirement already satisfied: packaging in /Library/Frameworks/Python.framework/Versions/3.11/lib/python3.11/site-packages (from geopandas) (23.2)\n",
      "Requirement already satisfied: pandas>=1.4.0 in /Library/Frameworks/Python.framework/Versions/3.11/lib/python3.11/site-packages (from geopandas) (2.1.3)\n",
      "Requirement already satisfied: pyproj>=3.3.0 in /Library/Frameworks/Python.framework/Versions/3.11/lib/python3.11/site-packages (from geopandas) (3.6.1)\n",
      "Requirement already satisfied: shapely>=1.8.0 in /Library/Frameworks/Python.framework/Versions/3.11/lib/python3.11/site-packages (from geopandas) (2.0.2)\n",
      "Requirement already satisfied: attrs>=19.2.0 in /Library/Frameworks/Python.framework/Versions/3.11/lib/python3.11/site-packages (from fiona>=1.8.21->geopandas) (23.1.0)\n",
      "Requirement already satisfied: certifi in /Library/Frameworks/Python.framework/Versions/3.11/lib/python3.11/site-packages (from fiona>=1.8.21->geopandas) (2023.11.17)\n",
      "Requirement already satisfied: click~=8.0 in /Library/Frameworks/Python.framework/Versions/3.11/lib/python3.11/site-packages (from fiona>=1.8.21->geopandas) (8.1.7)\n",
      "Requirement already satisfied: click-plugins>=1.0 in /Library/Frameworks/Python.framework/Versions/3.11/lib/python3.11/site-packages (from fiona>=1.8.21->geopandas) (1.1.1)\n",
      "Requirement already satisfied: cligj>=0.5 in /Library/Frameworks/Python.framework/Versions/3.11/lib/python3.11/site-packages (from fiona>=1.8.21->geopandas) (0.7.2)\n",
      "Requirement already satisfied: six in /Library/Frameworks/Python.framework/Versions/3.11/lib/python3.11/site-packages (from fiona>=1.8.21->geopandas) (1.16.0)\n",
      "Requirement already satisfied: setuptools in /Library/Frameworks/Python.framework/Versions/3.11/lib/python3.11/site-packages (from fiona>=1.8.21->geopandas) (65.5.0)\n",
      "Requirement already satisfied: numpy<2,>=1.23.2 in /Library/Frameworks/Python.framework/Versions/3.11/lib/python3.11/site-packages (from pandas>=1.4.0->geopandas) (1.26.2)\n",
      "Requirement already satisfied: python-dateutil>=2.8.2 in /Library/Frameworks/Python.framework/Versions/3.11/lib/python3.11/site-packages (from pandas>=1.4.0->geopandas) (2.8.2)\n",
      "Requirement already satisfied: pytz>=2020.1 in /Library/Frameworks/Python.framework/Versions/3.11/lib/python3.11/site-packages (from pandas>=1.4.0->geopandas) (2023.3.post1)\n",
      "Requirement already satisfied: tzdata>=2022.1 in /Library/Frameworks/Python.framework/Versions/3.11/lib/python3.11/site-packages (from pandas>=1.4.0->geopandas) (2023.3)\n",
      "Requirement already satisfied: folium in /Library/Frameworks/Python.framework/Versions/3.11/lib/python3.11/site-packages (0.15.0)\n",
      "Requirement already satisfied: branca>=0.6.0 in /Library/Frameworks/Python.framework/Versions/3.11/lib/python3.11/site-packages (from folium) (0.7.0)\n",
      "Requirement already satisfied: jinja2>=2.9 in /Library/Frameworks/Python.framework/Versions/3.11/lib/python3.11/site-packages (from folium) (3.1.2)\n",
      "Requirement already satisfied: numpy in /Library/Frameworks/Python.framework/Versions/3.11/lib/python3.11/site-packages (from folium) (1.26.2)\n",
      "Requirement already satisfied: requests in /Library/Frameworks/Python.framework/Versions/3.11/lib/python3.11/site-packages (from folium) (2.31.0)\n",
      "Requirement already satisfied: MarkupSafe>=2.0 in /Library/Frameworks/Python.framework/Versions/3.11/lib/python3.11/site-packages (from jinja2>=2.9->folium) (2.1.3)\n",
      "Requirement already satisfied: charset-normalizer<4,>=2 in /Library/Frameworks/Python.framework/Versions/3.11/lib/python3.11/site-packages (from requests->folium) (3.3.2)\n",
      "Requirement already satisfied: idna<4,>=2.5 in /Library/Frameworks/Python.framework/Versions/3.11/lib/python3.11/site-packages (from requests->folium) (3.4)\n",
      "Requirement already satisfied: urllib3<3,>=1.21.1 in /Library/Frameworks/Python.framework/Versions/3.11/lib/python3.11/site-packages (from requests->folium) (2.1.0)\n",
      "Requirement already satisfied: certifi>=2017.4.17 in /Library/Frameworks/Python.framework/Versions/3.11/lib/python3.11/site-packages (from requests->folium) (2023.11.17)\n"
     ]
    }
   ],
   "source": [
    "!pip install osmnx\n",
    "!pip install matplotlib\n",
    "!pip install geopandas\n",
    "!pip install folium"
   ]
  },
  {
   "cell_type": "code",
   "execution_count": 2,
   "id": "568db089-8bec-431a-aab3-0191ddae804e",
   "metadata": {},
   "outputs": [],
   "source": [
    "import folium\n",
    "import osmnx as ox\n",
    "import networkx as nx\n",
    "import matplotlib.pyplot as plt\n",
    "import geopandas as gpd"
   ]
  },
  {
   "cell_type": "code",
   "execution_count": 4,
   "id": "713f0c42-6a91-4ea1-bab9-93d6e5c953df",
   "metadata": {},
   "outputs": [
    {
     "name": "stderr",
     "output_type": "stream",
     "text": [
      "/var/folders/vz/b1smgzt13_dbs5c1rbj4m3dh0000gn/T/ipykernel_25147/3351815376.py:14: UserWarning: The `geometries` module and `geometries_from_X` functions have been renamed the `features` module and `features_from_X` functions. Use these instead. The `geometries` module and function names are deprecated and will be removed in a future release.\n",
      "  bus_stops = ox.geometries_from_place(place_name, tags=tags)\n"
     ]
    },
    {
     "name": "stdout",
     "output_type": "stream",
     "text": [
      "42\n"
     ]
    },
    {
     "ename": "AttributeError",
     "evalue": "module 'osmnx.projection' has no attribute 'get_utm_crs'",
     "output_type": "error",
     "traceback": [
      "\u001b[0;31m---------------------------------------------------------------------------\u001b[0m",
      "\u001b[0;31mAttributeError\u001b[0m                            Traceback (most recent call last)",
      "Cell \u001b[0;32mIn[4], line 65\u001b[0m\n\u001b[1;32m     62\u001b[0m bike_friendly_edges \u001b[38;5;241m=\u001b[39m edges[edges\u001b[38;5;241m.\u001b[39mapply(is_bike_friendly, axis\u001b[38;5;241m=\u001b[39m\u001b[38;5;241m1\u001b[39m)]\n\u001b[1;32m     64\u001b[0m \u001b[38;5;66;03m# Determine the UTM zone and convert bike-friendly paths to this CRS\u001b[39;00m\n\u001b[0;32m---> 65\u001b[0m utm_crs \u001b[38;5;241m=\u001b[39m \u001b[43mox\u001b[49m\u001b[38;5;241;43m.\u001b[39;49m\u001b[43mprojection\u001b[49m\u001b[38;5;241;43m.\u001b[39;49m\u001b[43mget_utm_crs\u001b[49m(\u001b[38;5;241m52.3705\u001b[39m, \u001b[38;5;241m9.7332\u001b[39m)\n\u001b[1;32m     66\u001b[0m bike_friendly_edges_utm \u001b[38;5;241m=\u001b[39m bike_friendly_edges\u001b[38;5;241m.\u001b[39mto_crs(utm_crs)\n\u001b[1;32m     68\u001b[0m \u001b[38;5;66;03m# Calculate the total length in UTM CRS\u001b[39;00m\n",
      "\u001b[0;31mAttributeError\u001b[0m: module 'osmnx.projection' has no attribute 'get_utm_crs'"
     ]
    }
   ],
   "source": [
    "def is_bike_friendly(edge):\n",
    "    return (\n",
    "        edge.get('bicycle', 'no') in ('yes', 'designated', 'permissive') or\n",
    "        edge.get('highway') == 'cycleway' or\n",
    "        'cycleway' in edge\n",
    "    )\n",
    "\n",
    "# Define the place and create a graph from OSM data\n",
    "place_name = \"Hanover\"\n",
    "G = ox.graph_from_place(place_name, network_type='all')\n",
    "\n",
    "# Get bus stops and bike-friendly paths\n",
    "tags = {'highway': 'bus_stop'}\n",
    "bus_stops = ox.geometries_from_place(place_name, tags=tags)\n",
    "\n",
    "# Get the edges and nodes from the graph\n",
    "edges = ox.graph_to_gdfs(G, nodes=False, edges=True)\n",
    "bike_friendly_edges = edges[edges.apply(is_bike_friendly, axis=1)]\n",
    "nodes = ox.graph_to_gdfs(G, nodes=True, edges=False)\n",
    "\n",
    "# Convert to the same CRS and create buffers\n",
    "bus_stops = bus_stops.to_crs('EPSG:3395')\n",
    "bus_stops_buffer = bus_stops.buffer(15)  # 100 meters buffer for bus stops\n",
    "bike_friendly_edges = bike_friendly_edges.to_crs('EPSG:3395')\n",
    "bike_friendly_buffer = bike_friendly_edges.buffer(15)  # 20 meters buffer for bike paths\n",
    "nodes = nodes.to_crs('EPSG:3395')\n",
    "\n",
    "# Find nodes near bus stops and bike paths\n",
    "near_bus_stops = nodes[nodes.geometry.apply(lambda x: bus_stops_buffer.contains(x).any())]\n",
    "near_bike_paths = nodes[nodes.geometry.apply(lambda x: bike_friendly_buffer.contains(x).any())]\n",
    "near_both = near_bus_stops[near_bus_stops.index.isin(near_bike_paths.index)]\n",
    "\n",
    "# Convert back to the original CRS for plotting\n",
    "near_both = near_both.to_crs('EPSG:4326')\n",
    "bike_friendly_edges = bike_friendly_edges.to_crs('EPSG:4326')\n",
    "bus_stops = bus_stops.to_crs('EPSG:4326')\n",
    "\n",
    "# Create a base map with the Stamen Terrain tiles and attribution\n",
    "map = folium.Map(location=[52.3705, 9.7332], zoom_start=13)\n",
    "\n",
    "# Add bike-friendly paths to the map\n",
    "for _, row in bike_friendly_edges.iterrows():\n",
    "    line = folium.PolyLine(locations=[(lat, lon) for lon, lat in row['geometry'].coords], color='green', weight=5)\n",
    "    map.add_child(line)\n",
    "# Add intersections near both bus stops and bike paths\n",
    "for _, row in near_both.iterrows():\n",
    "    folium.CircleMarker(location=(row.geometry.y, row.geometry.x), radius=7, color='red', fill=True).add_to(map)\n",
    "\n",
    "number_of_danger_points = len(near_both)\n",
    "print(number_of_danger_points)\n",
    "for _, row in near_both.iterrows():\n",
    "    folium.CircleMarker(\n",
    "        location=[row.geometry.y, row.geometry.x],\n",
    "        radius=7, \n",
    "        color='red', \n",
    "        fill=True,\n",
    "        tooltip=f'Danger Point - Total: {number_of_danger_points}'\n",
    "    ).add_to(map)\n",
    "# Display the map\n",
    "map\n",
    "\n",
    "bike_friendly_edges = edges[edges.apply(is_bike_friendly, axis=1)]\n",
    "\n",
    "# Determine the UTM zone and convert bike-friendly paths to this CRS\n",
    "utm_crs = ox.projection.get_utm_crs(52.3705, 9.7332)\n",
    "bike_friendly_edges_utm = bike_friendly_edges.to_crs(utm_crs)\n",
    "\n",
    "# Calculate the total length in UTM CRS\n",
    "total_length_meters = bike_friendly_edges_utm['geometry'].length.sum()\n",
    "total_length_km = total_length_meters / 1000\n",
    "print(f\"Total length of bike-friendly paths: {total_length_km:.2f} km\")"
   ]
  },
  {
   "cell_type": "code",
   "execution_count": null,
   "id": "96254e7f-3320-4ad4-8dd3-35cf763455c3",
   "metadata": {},
   "outputs": [],
   "source": []
  }
 ],
 "metadata": {
  "kernelspec": {
   "display_name": "Python 3 (ipykernel)",
   "language": "python",
   "name": "python3"
  },
  "language_info": {
   "codemirror_mode": {
    "name": "ipython",
    "version": 3
   },
   "file_extension": ".py",
   "mimetype": "text/x-python",
   "name": "python",
   "nbconvert_exporter": "python",
   "pygments_lexer": "ipython3",
   "version": "3.11.2"
  }
 },
 "nbformat": 4,
 "nbformat_minor": 5
}
