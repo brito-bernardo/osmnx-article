{
 "cells": [
  {
   "cell_type": "code",
   "execution_count": 2,
   "id": "e822d1a9-f80e-4026-9c35-0407377132af",
   "metadata": {},
   "outputs": [
    {
     "name": "stdout",
     "output_type": "stream",
     "text": [
      "4.7287563 52.2781742 5.0791622 52.4310638\n"
     ]
    },
    {
     "name": "stderr",
     "output_type": "stream",
     "text": [
      "/var/folders/vz/b1smgzt13_dbs5c1rbj4m3dh0000gn/T/ipykernel_29110/1972831954.py:10: DtypeWarning: Columns (2,3,25,36,40,48,53,60,61,62,63,64,70,71,73,74) have mixed types. Specify dtype option on import or set low_memory=False.\n",
      "  df = pd.read_csv('cycling_safety_netherlands.csv', low_memory=True)\n"
     ]
    }
   ],
   "source": [
    "import osmnx as ox\n",
    "import pandas as pd\n",
    "\n",
    "# Obter os limites geográficos da Alemanha\n",
    "place_name = \"Amsterdam, Netherlands\"\n",
    "area = ox.geocode_to_gdf(place_name)\n",
    "west, south, east, north = area.unary_union.bounds\n",
    "print(west,south,east,north)\n",
    "# Carregar o conjunto de dados\n",
    "df = pd.read_csv('cycling_safety_netherlands.csv', low_memory=True)\n",
    "\n",
    "\n",
    "# Filtrar o conjunto de dados para pontos dentro dos limites da Alemanha\n",
    "filtered_df = df[((df['Latitude'] >= south) & (df['Latitude'] <= north)) & ((df['Longitude'] >= west) & (df['Longitude'] <= east))]\n",
    "# Salvar os dados filtrados\n",
    "filtered_df.to_csv('filtered_data_amsterdam.csv', index=False)\n"
   ]
  }
 ],
 "metadata": {
  "kernelspec": {
   "display_name": "Python 3 (ipykernel)",
   "language": "python",
   "name": "python3"
  },
  "language_info": {
   "codemirror_mode": {
    "name": "ipython",
    "version": 3
   },
   "file_extension": ".py",
   "mimetype": "text/x-python",
   "name": "python",
   "nbconvert_exporter": "python",
   "pygments_lexer": "ipython3",
   "version": "3.11.2"
  }
 },
 "nbformat": 4,
 "nbformat_minor": 5
}
