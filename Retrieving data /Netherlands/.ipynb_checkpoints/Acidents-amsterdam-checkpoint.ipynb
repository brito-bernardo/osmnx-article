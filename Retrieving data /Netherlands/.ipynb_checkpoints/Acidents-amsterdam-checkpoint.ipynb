{
 "cells": [
  {
   "cell_type": "code",
   "execution_count": null,
   "id": "09f85959-c5b0-41c2-a434-2dd03a8bb23c",
   "metadata": {},
   "outputs": [],
   "source": [
    "import pandas as pd\n",
    "import folium \n",
    "\n",
    "df = pd.read_csv('filtered_data_amsterdam.csv')"
   ]
  },
  {
   "cell_type": "code",
   "execution_count": null,
   "id": "be8cdbb1-a81a-4b83-a7f8-d764d78cdbfc",
   "metadata": {},
   "outputs": [],
   "source": [
    "map = folium.Map(location=[52.3676, 4.9041], zoom_start=13)\n",
    "\n",
    "\n",
    "for _, row in df.iterrows():\n",
    "    folium.CircleMarker(\n",
    "        location=[row['Latitude'], row['Longitude']],\n",
    "        radius=3,\n",
    "        color='red',\n",
    "        fill=True\n",
    "    ).add_to(map)\n",
    "\n",
    "map\n",
    "map.save('acidents_hanover.html')"
   ]
  }
 ],
 "metadata": {
  "kernelspec": {
   "display_name": "Python 3 (ipykernel)",
   "language": "python",
   "name": "python3"
  },
  "language_info": {
   "codemirror_mode": {
    "name": "ipython",
    "version": 3
   },
   "file_extension": ".py",
   "mimetype": "text/x-python",
   "name": "python",
   "nbconvert_exporter": "python",
   "pygments_lexer": "ipython3",
   "version": "3.11.2"
  }
 },
 "nbformat": 4,
 "nbformat_minor": 5
}
