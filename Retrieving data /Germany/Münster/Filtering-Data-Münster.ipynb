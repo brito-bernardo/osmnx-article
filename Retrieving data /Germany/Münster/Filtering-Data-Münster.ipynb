{
 "cells": [
  {
   "cell_type": "code",
   "execution_count": 38,
   "id": "858f29db-6212-45d7-b28d-602bf7efffae",
   "metadata": {},
   "outputs": [
    {
     "name": "stdout",
     "output_type": "stream",
     "text": [
      "7.4737853 51.8401448 7.7743634 52.0600251\n"
     ]
    },
    {
     "name": "stderr",
     "output_type": "stream",
     "text": [
      "/var/folders/vz/b1smgzt13_dbs5c1rbj4m3dh0000gn/T/ipykernel_24062/3551023899.py:10: DtypeWarning: Columns (26) have mixed types. Specify dtype option on import or set low_memory=False.\n",
      "  df = pd.read_csv('cycling_safety_germany.csv', low_memory=True)\n"
     ]
    }
   ],
   "source": [
    "import osmnx as ox\n",
    "import pandas as pd\n",
    "\n",
    "# Obter os limites geográficos da Alemanha\n",
    "place_name = \"Münster, Germany\"\n",
    "area = ox.geocode_to_gdf(place_name)\n",
    "west, south, east, north = area.unary_union.bounds\n",
    "print(west,south,east,north)\n",
    "# Carregar o conjunto de dados\n",
    "df = pd.read_csv('cycling_safety_germany.csv', low_memory=True)\n",
    "\n",
    "\n",
    "# Filtrar o conjunto de dados para pontos dentro dos limites da Alemanha\n",
    "filtered_df = df[((df['Latitude'] >= south) & (df['Latitude'] <= north)) & ((df['Longitude'] >= west) & (df['Longitude'] <= east))]\n",
    "# Salvar os dados filtrados\n",
    "filtered_df.to_csv('filtered_data_munster.csv', index=False)\n"
   ]
  },
  {
   "cell_type": "code",
   "execution_count": null,
   "id": "d31e01ef-d103-4122-a1af-070c9b421c1f",
   "metadata": {},
   "outputs": [],
   "source": []
  }
 ],
 "metadata": {
  "kernelspec": {
   "display_name": "Python 3 (ipykernel)",
   "language": "python",
   "name": "python3"
  },
  "language_info": {
   "codemirror_mode": {
    "name": "ipython",
    "version": 3
   },
   "file_extension": ".py",
   "mimetype": "text/x-python",
   "name": "python",
   "nbconvert_exporter": "python",
   "pygments_lexer": "ipython3",
   "version": "3.11.2"
  }
 },
 "nbformat": 4,
 "nbformat_minor": 5
}
