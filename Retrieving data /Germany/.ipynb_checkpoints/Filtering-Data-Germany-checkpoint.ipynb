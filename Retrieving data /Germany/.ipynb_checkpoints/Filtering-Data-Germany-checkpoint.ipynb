{
 "cells": [
  {
   "cell_type": "code",
   "execution_count": 5,
   "id": "858f29db-6212-45d7-b28d-602bf7efffae",
   "metadata": {},
   "outputs": [],
   "source": [
    "import osmnx as ox\n",
    "import pandas as pd\n",
    "\n",
    "# Get the geographical boundary of Münster, Germany\n",
    "place_name = \"Münster, Germany\"\n",
    "area = ox.geocode_to_gdf(place_name)\n",
    "north, south, east, west = area.unary_union.bounds\n",
    "\n",
    "# Load the dataset\n",
    "df = pd.read_csv('cycling_safety_germany.csv', low_memory=False)\n",
    "\n",
    "# Filter the dataset for points within the Münster bounds\n",
    "filtered_df = df[(df['Latitude'] >= south) & (df['Latitude'] <= north) &\n",
    "                 (df['Longitude'] >= west) & (df['Longitude'] <= east)]\n",
    "\n",
    "filtered_df.to_csv('filtered_data_munster.csv', index=False)"
   ]
  },
  {
   "cell_type": "code",
   "execution_count": null,
   "id": "7c5cf7cb-9ec7-49e5-b741-74b6ac98e567",
   "metadata": {},
   "outputs": [],
   "source": []
  }
 ],
 "metadata": {
  "kernelspec": {
   "display_name": "Python 3 (ipykernel)",
   "language": "python",
   "name": "python3"
  },
  "language_info": {
   "codemirror_mode": {
    "name": "ipython",
    "version": 3
   },
   "file_extension": ".py",
   "mimetype": "text/x-python",
   "name": "python",
   "nbconvert_exporter": "python",
   "pygments_lexer": "ipython3",
   "version": "3.11.2"
  }
 },
 "nbformat": 4,
 "nbformat_minor": 5
}
