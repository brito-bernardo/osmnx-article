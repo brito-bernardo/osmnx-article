{
 "cells": [
  {
   "cell_type": "code",
   "execution_count": 6,
   "id": "f2f2e909-3125-4aa0-b04d-0d52d624c538",
   "metadata": {},
   "outputs": [],
   "source": [
    "import pandas as pd\n",
    "import folium \n",
    "\n",
    "df = pd.read_csv('filtered_data_munster.csv')\n"
   ]
  },
  {
   "cell_type": "code",
   "execution_count": 7,
   "id": "4522f4c8-bcf4-48c7-bf99-c45a0e45e299",
   "metadata": {},
   "outputs": [],
   "source": [
    "map = folium.Map(location=[51.9625, 7.6256], zoom_start=13)\n",
    "\n",
    "for _, row in df.iterrows():\n",
    "    folium.CircleMarker(\n",
    "        location=[row['Latitude'], row['Longitude']],\n",
    "        radius=3,\n",
    "        color='red',\n",
    "        fill=True\n",
    "    ).add_to(map)\n",
    "\n",
    "map\n",
    "map.save('acidents_munster.html')"
   ]
  },
  {
   "cell_type": "code",
   "execution_count": null,
   "id": "dbe981b0-ca01-4d2c-85da-99451bcfdc05",
   "metadata": {},
   "outputs": [],
   "source": []
  }
 ],
 "metadata": {
  "kernelspec": {
   "display_name": "Python 3 (ipykernel)",
   "language": "python",
   "name": "python3"
  },
  "language_info": {
   "codemirror_mode": {
    "name": "ipython",
    "version": 3
   },
   "file_extension": ".py",
   "mimetype": "text/x-python",
   "name": "python",
   "nbconvert_exporter": "python",
   "pygments_lexer": "ipython3",
   "version": "3.11.2"
  }
 },
 "nbformat": 4,
 "nbformat_minor": 5
}
