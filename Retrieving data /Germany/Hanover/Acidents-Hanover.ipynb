{
 "cells": [
  {
   "cell_type": "code",
   "execution_count": 2,
   "id": "eb80e18d-33bd-4657-b818-bf84df7e4e81",
   "metadata": {},
   "outputs": [],
   "source": [
    "import pandas as pd\n",
    "import folium \n",
    "\n",
    "df = pd.read_csv('filtered_data_hanover.csv')"
   ]
  },
  {
   "cell_type": "code",
   "execution_count": 3,
   "id": "b952ba04-27a8-43a2-986c-db35d0d00cc3",
   "metadata": {},
   "outputs": [],
   "source": [
    "map = folium.Map(location=[52.3705, 9.7332], zoom_start=13)\n",
    "\n",
    "\n",
    "for _, row in df.iterrows():\n",
    "    folium.CircleMarker(\n",
    "        location=[row['Latitude'], row['Longitude']],\n",
    "        radius=3,\n",
    "        color='red',\n",
    "        fill=True\n",
    "    ).add_to(map)\n",
    "\n",
    "map\n",
    "map.save('acidents_hanover.html')"
   ]
  },
  {
   "cell_type": "code",
   "execution_count": null,
   "id": "856c716b-5f22-4b7c-a8e0-689aca5d5f68",
   "metadata": {},
   "outputs": [],
   "source": []
  }
 ],
 "metadata": {
  "kernelspec": {
   "display_name": "Python 3 (ipykernel)",
   "language": "python",
   "name": "python3"
  },
  "language_info": {
   "codemirror_mode": {
    "name": "ipython",
    "version": 3
   },
   "file_extension": ".py",
   "mimetype": "text/x-python",
   "name": "python",
   "nbconvert_exporter": "python",
   "pygments_lexer": "ipython3",
   "version": "3.11.2"
  }
 },
 "nbformat": 4,
 "nbformat_minor": 5
}
