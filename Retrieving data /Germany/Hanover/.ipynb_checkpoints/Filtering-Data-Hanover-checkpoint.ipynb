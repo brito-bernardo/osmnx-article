{
 "cells": [
  {
   "cell_type": "code",
   "execution_count": null,
   "id": "d6851d0c-b454-4e67-a7cb-834c2e626798",
   "metadata": {},
   "outputs": [],
   "source": [
    "import osmnx as ox\n",
    "import pandas as pd\n",
    "\n",
    "# Obter os limites geográficos da Alemanha\n",
    "place_name = \"Hanover, Germany\"\n",
    "area = ox.geocode_to_gdf(place_name)\n",
    "west, south, east, north = area.unary_union.bounds\n",
    "print(west,south,east,north)\n",
    "# Carregar o conjunto de dados\n",
    "df = pd.read_csv('cycling_safety_germany.csv', low_memory=True)\n",
    "\n",
    "\n",
    "# Filtrar o conjunto de dados para pontos dentro dos limites da Alemanha\n",
    "filtered_df = df[((df['Latitude'] >= south) & (df['Latitude'] <= north)) & ((df['Longitude'] >= west) & (df['Longitude'] <= east))]\n",
    "# Salvar os dados filtrados\n",
    "filtered_df.to_csv('filtered_data_hanover.csv', index=False)\n"
   ]
  }
 ],
 "metadata": {
  "kernelspec": {
   "display_name": "Python 3 (ipykernel)",
   "language": "python",
   "name": "python3"
  },
  "language_info": {
   "codemirror_mode": {
    "name": "ipython",
    "version": 3
   },
   "file_extension": ".py",
   "mimetype": "text/x-python",
   "name": "python",
   "nbconvert_exporter": "python",
   "pygments_lexer": "ipython3",
   "version": "3.11.2"
  }
 },
 "nbformat": 4,
 "nbformat_minor": 5
}
