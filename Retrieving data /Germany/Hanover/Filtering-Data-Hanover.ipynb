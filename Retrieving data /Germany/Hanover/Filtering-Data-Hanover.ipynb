{
 "cells": [
  {
   "cell_type": "code",
   "execution_count": 1,
   "id": "d6851d0c-b454-4e67-a7cb-834c2e626798",
   "metadata": {},
   "outputs": [
    {
     "name": "stdout",
     "output_type": "stream",
     "text": [
      "9.60443 52.3051373 9.9184259 52.4543349\n"
     ]
    },
    {
     "name": "stderr",
     "output_type": "stream",
     "text": [
      "/var/folders/vz/b1smgzt13_dbs5c1rbj4m3dh0000gn/T/ipykernel_27907/4215965753.py:10: DtypeWarning: Columns (26) have mixed types. Specify dtype option on import or set low_memory=False.\n",
      "  df = pd.read_csv('cycling_safety_germany.csv', low_memory=True)\n"
     ]
    }
   ],
   "source": [
    "import osmnx as ox\n",
    "import pandas as pd\n",
    "\n",
    "# Obter os limites geográficos da Alemanha\n",
    "place_name = \"Hanover, Germany\"\n",
    "area = ox.geocode_to_gdf(place_name)\n",
    "west, south, east, north = area.unary_union.bounds\n",
    "print(west,south,east,north)\n",
    "# Carregar o conjunto de dados\n",
    "df = pd.read_csv('cycling_safety_germany.csv', low_memory=True)\n",
    "\n",
    "\n",
    "# Filtrar o conjunto de dados para pontos dentro dos limites da Alemanha\n",
    "filtered_df = df[((df['Latitude'] >= south) & (df['Latitude'] <= north)) & ((df['Longitude'] >= west) & (df['Longitude'] <= east))]\n",
    "# Salvar os dados filtrados\n",
    "filtered_df.to_csv('filtered_data_hanover.csv', index=False)\n"
   ]
  },
  {
   "cell_type": "code",
   "execution_count": null,
   "id": "05172fc6-05fa-4f59-8707-160a416fa182",
   "metadata": {},
   "outputs": [],
   "source": []
  }
 ],
 "metadata": {
  "kernelspec": {
   "display_name": "Python 3 (ipykernel)",
   "language": "python",
   "name": "python3"
  },
  "language_info": {
   "codemirror_mode": {
    "name": "ipython",
    "version": 3
   },
   "file_extension": ".py",
   "mimetype": "text/x-python",
   "name": "python",
   "nbconvert_exporter": "python",
   "pygments_lexer": "ipython3",
   "version": "3.11.2"
  }
 },
 "nbformat": 4,
 "nbformat_minor": 5
}
