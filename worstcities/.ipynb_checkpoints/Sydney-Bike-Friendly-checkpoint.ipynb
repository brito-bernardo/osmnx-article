{
 "cells": [
  {
   "cell_type": "code",
   "execution_count": 1,
   "id": "a7fee8ab-c99f-44a0-8411-1735ad0e0c31",
   "metadata": {},
   "outputs": [
    {
     "name": "stdout",
     "output_type": "stream",
     "text": [
      "Requirement already satisfied: osmnx in /Library/Frameworks/Python.framework/Versions/3.11/lib/python3.11/site-packages (1.7.1)\n",
      "Requirement already satisfied: geopandas>=0.12 in /Library/Frameworks/Python.framework/Versions/3.11/lib/python3.11/site-packages (from osmnx) (0.14.1)\n",
      "Requirement already satisfied: networkx>=2.5 in /Library/Frameworks/Python.framework/Versions/3.11/lib/python3.11/site-packages (from osmnx) (3.2.1)\n",
      "Requirement already satisfied: numpy>=1.20 in /Library/Frameworks/Python.framework/Versions/3.11/lib/python3.11/site-packages (from osmnx) (1.26.2)\n",
      "Requirement already satisfied: pandas>=1.1 in /Library/Frameworks/Python.framework/Versions/3.11/lib/python3.11/site-packages (from osmnx) (2.1.3)\n",
      "Requirement already satisfied: requests>=2.27 in /Library/Frameworks/Python.framework/Versions/3.11/lib/python3.11/site-packages (from osmnx) (2.31.0)\n",
      "Requirement already satisfied: shapely>=2.0 in /Library/Frameworks/Python.framework/Versions/3.11/lib/python3.11/site-packages (from osmnx) (2.0.2)\n",
      "Requirement already satisfied: fiona>=1.8.21 in /Library/Frameworks/Python.framework/Versions/3.11/lib/python3.11/site-packages (from geopandas>=0.12->osmnx) (1.9.5)\n",
      "Requirement already satisfied: packaging in /Library/Frameworks/Python.framework/Versions/3.11/lib/python3.11/site-packages (from geopandas>=0.12->osmnx) (23.2)\n",
      "Requirement already satisfied: pyproj>=3.3.0 in /Library/Frameworks/Python.framework/Versions/3.11/lib/python3.11/site-packages (from geopandas>=0.12->osmnx) (3.6.1)\n",
      "Requirement already satisfied: python-dateutil>=2.8.2 in /Library/Frameworks/Python.framework/Versions/3.11/lib/python3.11/site-packages (from pandas>=1.1->osmnx) (2.8.2)\n",
      "Requirement already satisfied: pytz>=2020.1 in /Library/Frameworks/Python.framework/Versions/3.11/lib/python3.11/site-packages (from pandas>=1.1->osmnx) (2023.3.post1)\n",
      "Requirement already satisfied: tzdata>=2022.1 in /Library/Frameworks/Python.framework/Versions/3.11/lib/python3.11/site-packages (from pandas>=1.1->osmnx) (2023.3)\n",
      "Requirement already satisfied: charset-normalizer<4,>=2 in /Library/Frameworks/Python.framework/Versions/3.11/lib/python3.11/site-packages (from requests>=2.27->osmnx) (3.3.2)\n",
      "Requirement already satisfied: idna<4,>=2.5 in /Library/Frameworks/Python.framework/Versions/3.11/lib/python3.11/site-packages (from requests>=2.27->osmnx) (3.4)\n",
      "Requirement already satisfied: urllib3<3,>=1.21.1 in /Library/Frameworks/Python.framework/Versions/3.11/lib/python3.11/site-packages (from requests>=2.27->osmnx) (2.1.0)\n",
      "Requirement already satisfied: certifi>=2017.4.17 in /Library/Frameworks/Python.framework/Versions/3.11/lib/python3.11/site-packages (from requests>=2.27->osmnx) (2023.11.17)\n",
      "Requirement already satisfied: attrs>=19.2.0 in /Library/Frameworks/Python.framework/Versions/3.11/lib/python3.11/site-packages (from fiona>=1.8.21->geopandas>=0.12->osmnx) (23.1.0)\n",
      "Requirement already satisfied: click~=8.0 in /Library/Frameworks/Python.framework/Versions/3.11/lib/python3.11/site-packages (from fiona>=1.8.21->geopandas>=0.12->osmnx) (8.1.7)\n",
      "Requirement already satisfied: click-plugins>=1.0 in /Library/Frameworks/Python.framework/Versions/3.11/lib/python3.11/site-packages (from fiona>=1.8.21->geopandas>=0.12->osmnx) (1.1.1)\n",
      "Requirement already satisfied: cligj>=0.5 in /Library/Frameworks/Python.framework/Versions/3.11/lib/python3.11/site-packages (from fiona>=1.8.21->geopandas>=0.12->osmnx) (0.7.2)\n",
      "Requirement already satisfied: six in /Library/Frameworks/Python.framework/Versions/3.11/lib/python3.11/site-packages (from fiona>=1.8.21->geopandas>=0.12->osmnx) (1.16.0)\n",
      "Requirement already satisfied: setuptools in /Library/Frameworks/Python.framework/Versions/3.11/lib/python3.11/site-packages (from fiona>=1.8.21->geopandas>=0.12->osmnx) (65.5.0)\n",
      "Requirement already satisfied: matplotlib in /Library/Frameworks/Python.framework/Versions/3.11/lib/python3.11/site-packages (3.8.2)\n",
      "Requirement already satisfied: contourpy>=1.0.1 in /Library/Frameworks/Python.framework/Versions/3.11/lib/python3.11/site-packages (from matplotlib) (1.2.0)\n",
      "Requirement already satisfied: cycler>=0.10 in /Library/Frameworks/Python.framework/Versions/3.11/lib/python3.11/site-packages (from matplotlib) (0.12.1)\n",
      "Requirement already satisfied: fonttools>=4.22.0 in /Library/Frameworks/Python.framework/Versions/3.11/lib/python3.11/site-packages (from matplotlib) (4.45.0)\n",
      "Requirement already satisfied: kiwisolver>=1.3.1 in /Library/Frameworks/Python.framework/Versions/3.11/lib/python3.11/site-packages (from matplotlib) (1.4.5)\n",
      "Requirement already satisfied: numpy<2,>=1.21 in /Library/Frameworks/Python.framework/Versions/3.11/lib/python3.11/site-packages (from matplotlib) (1.26.2)\n",
      "Requirement already satisfied: packaging>=20.0 in /Library/Frameworks/Python.framework/Versions/3.11/lib/python3.11/site-packages (from matplotlib) (23.2)\n",
      "Requirement already satisfied: pillow>=8 in /Library/Frameworks/Python.framework/Versions/3.11/lib/python3.11/site-packages (from matplotlib) (10.1.0)\n",
      "Requirement already satisfied: pyparsing>=2.3.1 in /Library/Frameworks/Python.framework/Versions/3.11/lib/python3.11/site-packages (from matplotlib) (3.1.1)\n",
      "Requirement already satisfied: python-dateutil>=2.7 in /Library/Frameworks/Python.framework/Versions/3.11/lib/python3.11/site-packages (from matplotlib) (2.8.2)\n",
      "Requirement already satisfied: six>=1.5 in /Library/Frameworks/Python.framework/Versions/3.11/lib/python3.11/site-packages (from python-dateutil>=2.7->matplotlib) (1.16.0)\n",
      "Requirement already satisfied: geopandas in /Library/Frameworks/Python.framework/Versions/3.11/lib/python3.11/site-packages (0.14.1)\n",
      "Requirement already satisfied: fiona>=1.8.21 in /Library/Frameworks/Python.framework/Versions/3.11/lib/python3.11/site-packages (from geopandas) (1.9.5)\n",
      "Requirement already satisfied: packaging in /Library/Frameworks/Python.framework/Versions/3.11/lib/python3.11/site-packages (from geopandas) (23.2)\n",
      "Requirement already satisfied: pandas>=1.4.0 in /Library/Frameworks/Python.framework/Versions/3.11/lib/python3.11/site-packages (from geopandas) (2.1.3)\n",
      "Requirement already satisfied: pyproj>=3.3.0 in /Library/Frameworks/Python.framework/Versions/3.11/lib/python3.11/site-packages (from geopandas) (3.6.1)\n",
      "Requirement already satisfied: shapely>=1.8.0 in /Library/Frameworks/Python.framework/Versions/3.11/lib/python3.11/site-packages (from geopandas) (2.0.2)\n",
      "Requirement already satisfied: attrs>=19.2.0 in /Library/Frameworks/Python.framework/Versions/3.11/lib/python3.11/site-packages (from fiona>=1.8.21->geopandas) (23.1.0)\n",
      "Requirement already satisfied: certifi in /Library/Frameworks/Python.framework/Versions/3.11/lib/python3.11/site-packages (from fiona>=1.8.21->geopandas) (2023.11.17)\n",
      "Requirement already satisfied: click~=8.0 in /Library/Frameworks/Python.framework/Versions/3.11/lib/python3.11/site-packages (from fiona>=1.8.21->geopandas) (8.1.7)\n",
      "Requirement already satisfied: click-plugins>=1.0 in /Library/Frameworks/Python.framework/Versions/3.11/lib/python3.11/site-packages (from fiona>=1.8.21->geopandas) (1.1.1)\n",
      "Requirement already satisfied: cligj>=0.5 in /Library/Frameworks/Python.framework/Versions/3.11/lib/python3.11/site-packages (from fiona>=1.8.21->geopandas) (0.7.2)\n",
      "Requirement already satisfied: six in /Library/Frameworks/Python.framework/Versions/3.11/lib/python3.11/site-packages (from fiona>=1.8.21->geopandas) (1.16.0)\n",
      "Requirement already satisfied: setuptools in /Library/Frameworks/Python.framework/Versions/3.11/lib/python3.11/site-packages (from fiona>=1.8.21->geopandas) (65.5.0)\n",
      "Requirement already satisfied: numpy<2,>=1.23.2 in /Library/Frameworks/Python.framework/Versions/3.11/lib/python3.11/site-packages (from pandas>=1.4.0->geopandas) (1.26.2)\n",
      "Requirement already satisfied: python-dateutil>=2.8.2 in /Library/Frameworks/Python.framework/Versions/3.11/lib/python3.11/site-packages (from pandas>=1.4.0->geopandas) (2.8.2)\n",
      "Requirement already satisfied: pytz>=2020.1 in /Library/Frameworks/Python.framework/Versions/3.11/lib/python3.11/site-packages (from pandas>=1.4.0->geopandas) (2023.3.post1)\n",
      "Requirement already satisfied: tzdata>=2022.1 in /Library/Frameworks/Python.framework/Versions/3.11/lib/python3.11/site-packages (from pandas>=1.4.0->geopandas) (2023.3)\n"
     ]
    }
   ],
   "source": [
    "!pip install osmnx\n",
    "!pip install matplotlib\n",
    "!pip install geopandas"
   ]
  },
  {
   "cell_type": "code",
   "execution_count": 2,
   "id": "10ecfa1d-e1ca-4b48-b349-10a054c87339",
   "metadata": {},
   "outputs": [],
   "source": [
    "import osmnx as ox\n",
    "import networkx as nx\n",
    "import matplotlib.pyplot as plt\n",
    "import geopandas as gd"
   ]
  },
  {
   "cell_type": "code",
   "execution_count": null,
   "id": "186a2448-d387-4412-9a9a-7df3f1ac5ff8",
   "metadata": {},
   "outputs": [],
   "source": [
    "place_name = \"Sydney\"\n",
    "\n",
    "G = ox.graph_from_place(place_name, network_type = 'all')"
   ]
  },
  {
   "cell_type": "code",
   "execution_count": null,
   "id": "c708c802-6821-43dd-a390-049d74c522a1",
   "metadata": {},
   "outputs": [],
   "source": [
    "tags = {'highway': 'bus_stop'}\n",
    "bus_stops = ox.geometries_from_place(place_name, tags=tags)"
   ]
  },
  {
   "cell_type": "code",
   "execution_count": null,
   "id": "fc390b48-d726-48b0-856a-ec2ec5db1834",
   "metadata": {},
   "outputs": [],
   "source": [
    "bus_stops_buffer = bus_stops.to_crs('EPSG:3395').buffer(100).to_crs('EPSG:4326')\n",
    "\n",
    "\n",
    "intersections = ox.graph_to_gdfs(G, nodes=True, edges=False)\n",
    "\n",
    "\n",
    "near_bus_stops = intersections[intersections.geometry.apply(lambda x: bus_stops_buffer.contains(x).any())]"
   ]
  },
  {
   "cell_type": "code",
   "execution_count": null,
   "id": "928ce3e9-1cf4-4c23-9882-0aeddc6ca0b9",
   "metadata": {},
   "outputs": [],
   "source": [
    "def is_bike_friendly(edge):\n",
    "    # Checks for bike-friendly infrastructure or allowances\n",
    "    return (\n",
    "        edge.get('bicycle', 'no') in ('yes', 'designated', 'permissive') or\n",
    "        edge.get('highway') == 'cycleway' or\n",
    "        'cycleway' in edge\n",
    "    )"
   ]
  },
  {
   "cell_type": "code",
   "execution_count": null,
   "id": "240a1155-ec7e-4cd9-9170-89cb99a5bfcb",
   "metadata": {},
   "outputs": [],
   "source": [
    "#Logical thinking of this code and plotting graphics\n",
    "\n",
    "\n",
    "fig, ax = plt.subplots(figsize=(10, 10))\n",
    "\n",
    "# Only edges\n",
    "for _, edge in ox.graph_to_gdfs(G, nodes=False, edges=True).iterrows():\n",
    "    line = edge.geometry\n",
    "    x, y = line.xy\n",
    "    ax.plot(x, y, color=\"black\", linewidth=0.5)\n",
    "\n",
    "bus_stops.plot(ax=ax, color='blue', markersize=5, label='Bus stop')\n",
    "near_bus_stops.plot(ax=ax, color='red', markersize=5, label='Intersections near to')\n",
    "\n",
    "# Get all the edges\n",
    "_, edges = ox.graph_to_gdfs(G, nodes=True, edges=True)\n",
    "bike_friendly_edges = edges[edges.apply(is_bike_friendly, axis=1)]\n",
    "\n",
    "if bike_friendly_edges.empty:\n",
    "    print(\"No bike-friendly paths found. The data might not include them or the filtering criteria might be too strict.\")\n",
    "else:\n",
    "    for _, edge in bike_friendly_edges.iterrows():\n",
    "        line = edge['geometry']\n",
    "        x, y = line.xy\n",
    "        ax.plot(x, y, color='green', linewidth=2, alpha=0.7)\n",
    "\n",
    "ax.set_title(\"Intersections and bike-friendly streets near bus stops in {}\".format(place_name))\n",
    "plt.legend()\n",
    "plt.show()"
   ]
  },
  {
   "cell_type": "code",
   "execution_count": null,
   "id": "35c84231-6f10-4741-94e4-7b2e405b8f41",
   "metadata": {},
   "outputs": [],
   "source": [
    "# Retrieve the bike-friendly edges as before.\n",
    "bike_friendly_edges = edges[edges.apply(is_bike_friendly, axis=1)]\n",
    "\n",
    "# Convert the bike-friendly edges to the same metric CRS that you used for bus_stops\n",
    "bike_friendly_edges = bike_friendly_edges.to_crs('EPSG:3395')\n",
    "\n",
    "# Create a buffer around the bike-friendly edges, using the same metric CRS\n",
    "bike_friendly_buffer = bike_friendly_edges.buffer(20)\n",
    "\n",
    "# Get back to the same CRS method for easy plotting.\n",
    "bike_friendly_buffer = bike_friendly_buffer.to_crs('EPSG:4326')\n",
    "\n",
    "# Filtering using the previous buffer for bus_stops and near_bus_stops.\n",
    "bus_stops_near_bike_friendly = bus_stops[bus_stops.geometry.within(bike_friendly_buffer.unary_union)]\n",
    "near_bus_stops_near_bike_friendly = near_bus_stops[near_bus_stops.geometry.within(bike_friendly_buffer.unary_union)]"
   ]
  },
  {
   "cell_type": "code",
   "execution_count": null,
   "id": "108c1b3d-90be-40bf-b354-9a786973ff2e",
   "metadata": {},
   "outputs": [],
   "source": [
    "#Plotting all same stuff\n",
    "number_of_danger_points = len(near_bus_stops_near_bike_friendly)\n",
    "\n",
    "fig, ax = plt.subplots(figsize=(10, 10))\n",
    "\n",
    "for _, edge in ox.graph_to_gdfs(G, nodes=False, edges=True).iterrows():\n",
    "    line = edge.geometry\n",
    "    x, y = line.xy\n",
    "    ax.plot(x, y, color=\"black\", linewidth=0.5)\n",
    "\n",
    "near_bus_stops_near_bike_friendly.plot(ax=ax, color='red', alpha=0.5, label='Intersection near bike path')\n",
    "\n",
    "ax.text(0.05, 0.95, f'Danger Points: {number_of_danger_points}', transform=ax.transAxes, fontsize=12, verticalalignment='top')\n",
    "\n",
    "bike_friendly_edges.to_crs('EPSG:4326').plot(ax=ax, color='green', linewidth=2, alpha=0.7)\n",
    "\n",
    "ax.set_title(\"Bus Stops and Intersections near Bike-Friendly Paths\")\n",
    "plt.legend()\n",
    "plt.show()"
   ]
  }
 ],
 "metadata": {
  "kernelspec": {
   "display_name": "Python 3 (ipykernel)",
   "language": "python",
   "name": "python3"
  },
  "language_info": {
   "codemirror_mode": {
    "name": "ipython",
    "version": 3
   },
   "file_extension": ".py",
   "mimetype": "text/x-python",
   "name": "python",
   "nbconvert_exporter": "python",
   "pygments_lexer": "ipython3",
   "version": "3.11.2"
  }
 },
 "nbformat": 4,
 "nbformat_minor": 5
}
